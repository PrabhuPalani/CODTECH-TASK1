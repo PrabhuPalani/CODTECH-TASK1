{
 "cells": [
  {
   "cell_type": "code",
   "execution_count": 1,
   "id": "7059b180",
   "metadata": {},
   "outputs": [],
   "source": [
    "import pandas as pd\n",
    "import seaborn as sns\n",
    "import matplotlib.pyplot as plt"
   ]
  },
  {
   "cell_type": "code",
   "execution_count": 2,
   "id": "1af1bd7c",
   "metadata": {},
   "outputs": [],
   "source": [
    "file_path = 'C:/Users/PRABHU PALANI/Desktop/clean_chatgpt_reviews.csv'\n",
    "data = pd.read_csv(file_path)"
   ]
  },
  {
   "cell_type": "code",
   "execution_count": 3,
   "id": "72ea2a88",
   "metadata": {},
   "outputs": [
    {
     "name": "stdout",
     "output_type": "stream",
     "text": [
      "Basic Information:\n",
      "<class 'pandas.core.frame.DataFrame'>\n",
      "RangeIndex: 149719 entries, 0 to 149718\n",
      "Data columns (total 6 columns):\n",
      " #   Column         Non-Null Count   Dtype \n",
      "---  ------         --------------   ----- \n",
      " 0   Unnamed: 0     149719 non-null  int64 \n",
      " 1   userName       149719 non-null  object\n",
      " 2   content        149719 non-null  object\n",
      " 3   score          149719 non-null  int64 \n",
      " 4   thumbsUpCount  149719 non-null  int64 \n",
      " 5   at             149719 non-null  object\n",
      "dtypes: int64(3), object(3)\n",
      "memory usage: 6.9+ MB\n"
     ]
    }
   ],
   "source": [
    "print(\"Basic Information:\")\n",
    "data.info()"
   ]
  },
  {
   "cell_type": "code",
   "execution_count": 4,
   "id": "9e64bcaa",
   "metadata": {},
   "outputs": [
    {
     "name": "stdout",
     "output_type": "stream",
     "text": [
      "\n",
      "First 5 rows of the dataset:\n",
      "   Unnamed: 0                 userName  \\\n",
      "0           0          T H (Trudylh20)   \n",
      "1           1     Muhammad bassam adam   \n",
      "2           2            Chinaza Okoli   \n",
      "3           3  Project House Group Ltd   \n",
      "4           4             Safoan Riyad   \n",
      "\n",
      "                                             content  score  thumbsUpCount  \\\n",
      "0                         excellent Im impressed 👌 👏      5              0   \n",
      "1                                            perfect      5              0   \n",
      "2                      its been so helpful...love it      5              0   \n",
      "3     It's amazing tools help me a lot with my work.      5              0   \n",
      "4  I enjoyed ChatGPT. But last update ruined ever...      1              0   \n",
      "\n",
      "                 at  \n",
      "0  28-06-2024 21:07  \n",
      "1  28-06-2024 20:56  \n",
      "2  28-06-2024 20:54  \n",
      "3  28-06-2024 20:51  \n",
      "4  28-06-2024 20:50  \n"
     ]
    }
   ],
   "source": [
    "print(\"\\nFirst 5 rows of the dataset:\")\n",
    "print(data.head())"
   ]
  },
  {
   "cell_type": "code",
   "execution_count": 5,
   "id": "725b6852",
   "metadata": {},
   "outputs": [
    {
     "name": "stdout",
     "output_type": "stream",
     "text": [
      "\n",
      "Missing Values:\n",
      "Unnamed: 0       0\n",
      "userName         0\n",
      "content          0\n",
      "score            0\n",
      "thumbsUpCount    0\n",
      "at               0\n",
      "dtype: int64\n"
     ]
    }
   ],
   "source": [
    "print(\"\\nMissing Values:\")\n",
    "print(data.isnull().sum())\n"
   ]
  },
  {
   "cell_type": "code",
   "execution_count": 7,
   "id": "9a8c0ac2",
   "metadata": {},
   "outputs": [],
   "source": [
    "data['at'] = pd.to_datetime(data['at'], format='%d-%m-%Y %H:%M', errors='coerce')"
   ]
  },
  {
   "cell_type": "code",
   "execution_count": 8,
   "id": "bc2ee438",
   "metadata": {},
   "outputs": [
    {
     "name": "stdout",
     "output_type": "stream",
     "text": [
      "\n",
      "Score Distribution:\n",
      "1      9555\n",
      "2      2589\n",
      "3      6256\n",
      "4     17581\n",
      "5    113738\n",
      "Name: score, dtype: int64\n"
     ]
    }
   ],
   "source": [
    "score_distribution = data['score'].value_counts().sort_index()\n",
    "print(\"\\nScore Distribution:\")\n",
    "print(score_distribution)\n"
   ]
  },
  {
   "cell_type": "code",
   "execution_count": 9,
   "id": "0310f4da",
   "metadata": {},
   "outputs": [
    {
     "data": {
      "text/plain": [
       "Text(0, 0.5, 'Frequency')"
      ]
     },
     "execution_count": 9,
     "metadata": {},
     "output_type": "execute_result"
    },
    {
     "data": {
      "image/png": "[encoded data removed]",
      "text/plain": [
       "<Figure size 864x360 with 1 Axes>"
      ]
     },
     "metadata": {
      "needs_background": "light"
     },
     "output_type": "display_data"
    }
   ],
   "source": [
    "plt.figure(figsize=(12, 5))\n",
    "plt.subplot(1, 2, 1)\n",
    "sns.barplot(x=score_distribution.index, y=score_distribution.values, palette='viridis')\n",
    "plt.title('Distribution of Scores')\n",
    "plt.xlabel('Score')\n",
    "plt.ylabel('Frequency')\n"
   ]
  },
  {
   "cell_type": "code",
   "execution_count": 10,
   "id": "e1c1339d",
   "metadata": {},
   "outputs": [
    {
     "name": "stdout",
     "output_type": "stream",
     "text": [
      "\n",
      "Thumbs Up Count Distribution:\n",
      "count    149719.000000\n",
      "mean          0.492937\n",
      "std          12.285116\n",
      "min           0.000000\n",
      "25%           0.000000\n",
      "50%           0.000000\n",
      "75%           0.000000\n",
      "max        1193.000000\n",
      "Name: thumbsUpCount, dtype: float64\n"
     ]
    }
   ],
   "source": [
    "thumbs_up_distribution = data['thumbsUpCount'].describe()\n",
    "print(\"\\nThumbs Up Count Distribution:\")\n",
    "print(thumbs_up_distribution)\n"
   ]
  },
  {
   "cell_type": "code",
   "execution_count": 11,
   "id": "befa1fac",
   "metadata": {},
   "outputs": [
    {
     "name": "stdout",
     "output_type": "stream",
     "text": [
      "\n",
      "Correlation Matrix:\n",
      "                  score  thumbsUpCount\n",
      "score          1.000000      -0.019986\n",
      "thumbsUpCount -0.019986       1.000000\n"
     ]
    }
   ],
   "source": [
    "# Correlation heatmap of numerical features\n",
    "correlation_matrix = data[['score', 'thumbsUpCount']].corr()\n",
    "print(\"\\nCorrelation Matrix:\")\n",
    "print(correlation_matrix)"
   ]
  },
  {
   "cell_type": "code",
   "execution_count": 12,
   "id": "4e4f091c",
   "metadata": {},
   "outputs": [
    {
     "data": {
      "text/plain": [
       "Text(0.5, 1.0, 'Correlation Heatmap')"
      ]
     },
     "execution_count": 12,
     "metadata": {},
     "output_type": "execute_result"
    },
    {
     "data": {
      "image/png": "[encoded data removed]",
      "text/plain": [
       "<Figure size 432x288 with 2 Axes>"
      ]
     },
     "metadata": {
      "needs_background": "light"
     },
     "output_type": "display_data"
    }
   ],
   "source": [
    "# Plotting Correlation Heatmap\n",
    "plt.subplot(1, 2, 2)\n",
    "sns.heatmap(correlation_matrix, annot=True, cmap='coolwarm')\n",
    "plt.title('Correlation Heatmap')"
   ]
  },
  {
   "cell_type": "code",
   "execution_count": 22,
   "id": "265bdfac",
   "metadata": {},
   "outputs": [
    {
     "data": {
      "text/plain": [
       "<Figure size 432x288 with 0 Axes>"
      ]
     },
     "metadata": {},
     "output_type": "display_data"
    }
   ],
   "source": [
    "plt.tight_layout()\n",
    "plt.show()"
   ]
  }
 ],
 "metadata": {
  "kernelspec": {
   "display_name": "Python 3 (ipykernel)",
   "language": "python",
   "name": "python3"
  },
  "language_info": {
   "codemirror_mode": {
    "name": "ipython",
    "version": 3
   },
   "file_extension": ".py",
   "mimetype": "text/x-python",
   "name": "python",
   "nbconvert_exporter": "python",
   "pygments_lexer": "ipython3",
   "version": "3.9.12"
  }
 },
 "nbformat": 4,
 "nbformat_minor": 5
}
